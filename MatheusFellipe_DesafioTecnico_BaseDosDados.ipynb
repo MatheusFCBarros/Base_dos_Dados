{
 "cells": [
  {
   "cell_type": "markdown",
   "metadata": {},
   "source": [
    "# **Teste técnico -- Base dos Dados**\n",
    "### <font color='red'> *Análise de dados do Censo Agropecuário do Brasil de 1985 - 2017*\n",
    "*by [Matheus Fellipe do Carmo Barros](https://linktr.ee/matheusfcbarros)*\n",
    "\n",
    "---\n"
   ]
  },
  {
   "cell_type": "markdown",
   "metadata": {},
   "source": [
    "### <font color=blue> Importando bibliotecas"
   ]
  },
  {
   "cell_type": "code",
   "execution_count": null,
   "metadata": {},
   "outputs": [],
   "source": [
    "import pandas as pd\n",
    "import numpy as np\n",
    "import basedosdados as bd\n",
    "import matplotlib.pyplot as plt\n",
    "import plotly\n",
    "import plotly.express as px"
   ]
  },
  {
   "cell_type": "markdown",
   "metadata": {},
   "source": [
    "### <font color=blue> 1. Carregando a base de dados"
   ]
  },
  {
   "cell_type": "markdown",
   "metadata": {},
   "source": [
    "> Utilizei o pacote ``basedosdados`` para fazer a consulta SQL na BD+"
   ]
  },
  {
   "cell_type": "markdown",
   "metadata": {},
   "source": [
    "Usei a base Censo Agropecuário (br_ibge_censo_agropecuario) para realizar as análises e realizei um cruzamento com a base \n",
    "(br_bd_diretorios_brasil) para poder ter também os nomes dos municípios. Ambas as bases estão disponíveis no site da [Base dos Dados](https://basedosdados.org/dataset?order_by=score)\n"
   ]
  },
  {
   "cell_type": "markdown",
   "metadata": {},
   "source": [
    "> Query SQL, para download da base, em uma forma mais simples"
   ]
  },
  {
   "cell_type": "code",
   "execution_count": null,
   "metadata": {},
   "outputs": [],
   "source": [
    "base_censo1 = bd.read_sql(\n",
    "    '''\n",
    "    SELECT censo.*, municipio.nome\n",
    "        FROM basedosdados.br_ibge_censo_agropecuario.municipio AS censo \n",
    "        INNER JOIN basedosdados.br_bd_diretorios_brasil.municipio AS municipio\n",
    "            ON censo.id_municipio = municipio.id_municipio\n",
    "    ''',\n",
    "    billing_project_id='teste1-360117'\n",
    ")"
   ]
  },
  {
   "cell_type": "markdown",
   "metadata": {},
   "source": [
    "> Query SQL, para download da base, usando subqueries"
   ]
  },
  {
   "cell_type": "code",
   "execution_count": null,
   "metadata": {},
   "outputs": [],
   "source": [
    "base_censo2 = bd.read_sql(\n",
    "    '''\n",
    "    SELECT censo.*, nome_municipio.nome\n",
    "        FROM basedosdados.br_ibge_censo_agropecuario.municipio AS censo \n",
    "        INNER JOIN (SELECT municipio.id_municipio, municipio.nome\n",
    "                        FROM basedosdados.br_bd_diretorios_brasil.municipio AS municipio) AS nome_municipio\n",
    "            ON censo.id_municipio = nome_municipio.id_municipio\n",
    "    ''',\n",
    "    billing_project_id='teste1-360117'\n",
    ")"
   ]
  },
  {
   "cell_type": "markdown",
   "metadata": {},
   "source": [
    "> Usando ``read_table``"
   ]
  },
  {
   "cell_type": "code",
   "execution_count": null,
   "metadata": {},
   "outputs": [],
   "source": [
    "#Teste usando read_table\n",
    "df = bd.read_table(dataset_id='br_ibge_censo_agropecuario',\n",
    "table_id='municipio',\n",
    "billing_project_id=\"teste1-360117\")"
   ]
  },
  {
   "cell_type": "markdown",
   "metadata": {},
   "source": [
    "Como forma de teste fiz o download da base de dados ``br_ibge_censo_agropecuario`` acrescida da informação dos nomes dos municípios e utlizando ``read_sql`` com uma query mais simples e ele foi realizado em 30s. Já o download da mesma base de dados utilizando subqueries foi realizado em 37s. O download da base ``br_ibge_censo_agropecuario`` , sem a informação dos nomes dos municípios , utilizando ``read_table`` gastou 49.8s."
   ]
  },
  {
   "cell_type": "markdown",
   "metadata": {},
   "source": [
    "### <font color=blue> 2. Informações da base de dados"
   ]
  },
  {
   "cell_type": "code",
   "execution_count": null,
   "metadata": {},
   "outputs": [],
   "source": [
    "base_censo1"
   ]
  },
  {
   "cell_type": "code",
   "execution_count": null,
   "metadata": {},
   "outputs": [],
   "source": [
    "#Tipos presente na base\n",
    "base_censo1.dtypes"
   ]
  },
  {
   "cell_type": "code",
   "execution_count": null,
   "metadata": {},
   "outputs": [],
   "source": [
    "base_censo1.info()"
   ]
  },
  {
   "cell_type": "markdown",
   "metadata": {},
   "source": [
    "### <font color=blue> 3. Tratando a base de dados"
   ]
  },
  {
   "cell_type": "code",
   "execution_count": null,
   "metadata": {},
   "outputs": [],
   "source": [
    "#convertendo id_municipio em tipo numerico para poder realizar uma melhor verificação de valores vazios\n",
    "base_censo1[\"id_municipio\"] = pd.to_numeric(base_censo1[\"id_municipio\"], errors = \"coerce\")\n",
    "base_censo1"
   ]
  },
  {
   "cell_type": "code",
   "execution_count": null,
   "metadata": {},
   "outputs": [],
   "source": [
    "#Tipos presente na base após conversão da id_municipio\n",
    "base_censo1.dtypes"
   ]
  },
  {
   "cell_type": "code",
   "execution_count": null,
   "metadata": {},
   "outputs": [],
   "source": [
    "#Reordenando a base para uma melhor vizualização\n",
    "col_nome = base_censo1[\"nome\"]\n",
    "base_censo1_ordenada = base_censo1\n",
    "base_censo1_ordenada.insert(3,'nome_municipio',col_nome)\n"
   ]
  },
  {
   "cell_type": "code",
   "execution_count": null,
   "metadata": {},
   "outputs": [],
   "source": [
    "#Base reordenada\n",
    "base_censo1_ordenada"
   ]
  },
  {
   "cell_type": "code",
   "execution_count": null,
   "metadata": {},
   "outputs": [],
   "source": [
    "#Verificando valores vazios para saber se posso eliminar alguma coluna\n",
    "contar_Valores_NaN = base_censo1_ordenada.isnull().sum().sort_values(ascending = False)\n",
    "contar_Valores_NaN \n",
    "\n"
   ]
  },
  {
   "cell_type": "code",
   "execution_count": null,
   "metadata": {},
   "outputs": [],
   "source": [
    "#Eliminando a coluna nome (Ja reordenei ela para outra posição) e eliminando a coluna (proporcao_despesa_salarios) ja que ela nao tem nenhum valor\n",
    "base_censo1_ordenada= base_censo1_ordenada.drop(columns=[\"proporcao_despesa_salarios\",\"nome\"])\n",
    "base_censo1_ordenada"
   ]
  },
  {
   "cell_type": "markdown",
   "metadata": {},
   "source": [
    "        Resolvi preencher os valores vazios como 0 por entender que esses campos podem ser analisados \n",
    "        como informações que naquele respectivo ano não existiram naquela propriedade."
   ]
  },
  {
   "cell_type": "code",
   "execution_count": null,
   "metadata": {},
   "outputs": [],
   "source": [
    "#Preenchendo valores vazios\n",
    "base_censo1_ordenada = base_censo1_ordenada.fillna(0)\n",
    "base_censo1_ordenada\n"
   ]
  },
  {
   "cell_type": "markdown",
   "metadata": {},
   "source": [
    "### <font color=blue> 4. Preparação dos dados para visualização"
   ]
  },
  {
   "cell_type": "markdown",
   "metadata": {},
   "source": [
    "### Bovinos"
   ]
  },
  {
   "cell_type": "code",
   "execution_count": null,
   "metadata": {},
   "outputs": [],
   "source": [
    "#Área utilizada por ano\n",
    "total_area_pastagem = base_censo1_ordenada.groupby(\"ano\").area_pastagem.sum()\n",
    "total_area_pastagem = total_area_pastagem.reset_index()\n",
    "total_area_pastagem"
   ]
  },
  {
   "cell_type": "code",
   "execution_count": null,
   "metadata": {},
   "outputs": [],
   "source": [
    "#Cálculo da quantidade de bovinos por ano\n",
    "total_quantidade_bovinos = base_censo1_ordenada.groupby(\"ano\").quantidade_bovinos_total.sum()\n",
    "total_quantidade_bovinos = total_quantidade_bovinos.reset_index()\n",
    "total_quantidade_bovinos"
   ]
  },
  {
   "cell_type": "code",
   "execution_count": null,
   "metadata": {},
   "outputs": [],
   "source": [
    "#Cálculo do valor da produção de bovinos por ano\n",
    "valor_producao_total_animal = base_censo1_ordenada.groupby(\"ano\").valor_producao_total_animal.sum()\n",
    "valor_producao_total_animal = valor_producao_total_animal.reset_index()\n",
    "valor_producao_total_animal\n",
    "\n"
   ]
  },
  {
   "cell_type": "markdown",
   "metadata": {},
   "source": [
    "### Arroz"
   ]
  },
  {
   "cell_type": "code",
   "execution_count": null,
   "metadata": {},
   "outputs": [],
   "source": [
    "#Área utilizada por ano\n",
    "total_area_arroz = base_censo1_ordenada.groupby(\"ano\").area_arroz.sum()\n",
    "total_area_arroz = total_area_arroz.reset_index()\n",
    "total_area_arroz\n"
   ]
  },
  {
   "cell_type": "code",
   "execution_count": null,
   "metadata": {},
   "outputs": [],
   "source": [
    "#Cálculo da produção de arroz, em toneladas, por ano\n",
    "total_producao_arroz = base_censo1_ordenada.groupby(\"ano\").producao_total_arroz.sum()\n",
    "total_producao_arroz = total_producao_arroz.reset_index()\n",
    "total_producao_arroz"
   ]
  },
  {
   "cell_type": "code",
   "execution_count": null,
   "metadata": {},
   "outputs": [],
   "source": [
    "#Cálculo do valor da produção de arroz por ano\n",
    "valor_total_arroz = base_censo1_ordenada.groupby(\"ano\").valor_total_arroz.sum()\n",
    "valor_total_arroz = valor_total_arroz.reset_index()\n",
    "valor_total_arroz"
   ]
  },
  {
   "cell_type": "markdown",
   "metadata": {},
   "source": [
    "### Soja"
   ]
  },
  {
   "cell_type": "code",
   "execution_count": null,
   "metadata": {},
   "outputs": [],
   "source": [
    "#Área utilizada no período\n",
    "total_area_soja= base_censo1_ordenada.groupby(\"ano\").area_soja.sum()\n",
    "total_area_soja = total_area_soja.reset_index()\n",
    "total_area_soja"
   ]
  },
  {
   "cell_type": "code",
   "execution_count": null,
   "metadata": {},
   "outputs": [],
   "source": [
    "#Cálculo da produção de soja, em toneladas, no período \n",
    "total_producao_soja = base_censo1_ordenada.groupby(\"ano\").producao_total_soja.sum()\n",
    "total_producao_soja = total_producao_soja.reset_index()\n",
    "total_producao_soja"
   ]
  },
  {
   "cell_type": "code",
   "execution_count": null,
   "metadata": {},
   "outputs": [],
   "source": [
    "#Calculo do valor da produção de soja no período\n",
    "valor_total_soja = base_censo1_ordenada.groupby(\"ano\").valor_total_soja.sum()\n",
    "valor_total_soja = valor_total_soja.reset_index()\n",
    "valor_total_soja"
   ]
  },
  {
   "cell_type": "markdown",
   "metadata": {},
   "source": [
    "> ``Dataframes auxiliares``"
   ]
  },
  {
   "cell_type": "markdown",
   "metadata": {},
   "source": [
    "Criei esses dataframes auxiliares para agregar os valores calculados anteriormente e facilitar a visualização"
   ]
  },
  {
   "cell_type": "code",
   "execution_count": null,
   "metadata": {},
   "outputs": [],
   "source": [
    "bovinos = pd.merge(total_area_pastagem, total_quantidade_bovinos, how= 'outer' )\n",
    "bovinos = pd.merge(bovinos, valor_producao_total_animal, how= 'outer' )\n",
    "bovinos"
   ]
  },
  {
   "cell_type": "code",
   "execution_count": null,
   "metadata": {},
   "outputs": [],
   "source": [
    "arroz = pd.merge(total_area_arroz, total_producao_arroz, how= 'outer' )\n",
    "arroz = pd.merge(arroz, valor_total_arroz, how= 'outer' )\n",
    "arroz"
   ]
  },
  {
   "cell_type": "code",
   "execution_count": null,
   "metadata": {},
   "outputs": [],
   "source": [
    "soja = pd.merge(total_area_soja, total_producao_soja, how= 'outer' )\n",
    "soja = pd.merge(soja, valor_total_soja, how= 'outer' )\n",
    "soja"
   ]
  },
  {
   "cell_type": "markdown",
   "metadata": {},
   "source": [
    "### <font color=blue> 5. Gerando Gráficos"
   ]
  },
  {
   "cell_type": "code",
   "execution_count": null,
   "metadata": {},
   "outputs": [],
   "source": [
    "graf_Bovinos = px.bar(bovinos, x = 'ano', y = 'quantidade_bovinos_total', color = 'area_pastagem')\n",
    "plotly.offline.plot(graf_Bovinos)\n",
    "graf_Bovinos.show()"
   ]
  },
  {
   "cell_type": "code",
   "execution_count": null,
   "metadata": {},
   "outputs": [],
   "source": [
    "graf_arroz = px.bar(arroz, x = 'ano', y = 'producao_total_arroz', color = 'area_arroz')\n",
    "plotly.offline.plot(graf_arroz)\n",
    "graf_arroz.show()"
   ]
  },
  {
   "cell_type": "code",
   "execution_count": null,
   "metadata": {},
   "outputs": [],
   "source": [
    "graf_Soja = px.bar(soja, x = 'ano', y = 'producao_total_soja', color = 'area_soja')\n",
    "plotly.offline.plot(graf_Soja)\n",
    "graf_Soja.show()"
   ]
  }
 ],
 "metadata": {
  "kernelspec": {
   "display_name": "Python 3.7.4 64-bit (system)",
   "language": "python",
   "name": "python3"
  },
  "language_info": {
   "codemirror_mode": {
    "name": "ipython",
    "version": 3
   },
   "file_extension": ".py",
   "mimetype": "text/x-python",
   "name": "python",
   "nbconvert_exporter": "python",
   "pygments_lexer": "ipython3",
   "version": "3.7.4"
  },
  "orig_nbformat": 4,
  "vscode": {
   "interpreter": {
    "hash": "c25c8803204bd7c80e0e347f30e6fc18f99fb00a7140e0077dc3fb869d30a638"
   }
  }
 },
 "nbformat": 4,
 "nbformat_minor": 2
}
